{
 "cells": [
  {
   "cell_type": "code",
   "execution_count": 1,
   "metadata": {
    "collapsed": true
   },
   "outputs": [],
   "source": [
    "import json"
   ]
  },
  {
   "cell_type": "code",
   "execution_count": 7,
   "metadata": {
    "collapsed": false
   },
   "outputs": [],
   "source": [
    "text = '''{\"created_at\":\"Fri Nov 25 15:05:31 +0000 2016\",\"id\":802166329864290305,\"id_str\":\"802166329864290305\",\"text\":\"RT @BeatFassbender: NEW RT @ollyog  An animation I created for the new digital edition of #Empire featuring Michael #Fassbender!\\u2026 \",\"source\":\"\\u003ca href=\\\"http:\\/\\/twitter.com\\/download\\/android\\\" rel=\\\"nofollow\\\"\\u003eTwitter for Android\\u003c\\/a\\u003e\",\"truncated\":false,\"in_reply_to_status_id\":null,\"in_reply_to_status_id_str\":null,\"in_reply_to_user_id\":null,\"in_reply_to_user_id_str\":null,\"in_reply_to_screen_name\":null,\"user\":{\"id\":1409176891,\"id_str\":\"1409176891\",\"name\":\"ACAV\",\"screen_name\":\"acecivalenzuela\",\"location\":null,\"url\":null,\"description\":\"I'm as dry as a seven year drought\\nI got dust for tears. I'm all tapped out. Sometimes I feel broken and can't get fixed\",\"protected\":false,\"verified\":false,\"followers_count\":66,\"friends_count\":128,\"listed_count\":13,\"favourites_count\":6244,\"statuses_count\":2765,\"created_at\":\"Tue May 07 01:43:39 +0000 2013\",\"utc_offset\":-10800,\"time_zone\":\"Santiago\",\"geo_enabled\":true,\"lang\":\"es\",\"contributors_enabled\":false,\"is_translator\":false,\"profile_background_color\":\"C0DEED\",\"profile_background_image_url\":\"http:\\/\\/pbs.twimg.com\\/profile_background_images\\/479474791024304128\\/0KO5ytQP.jpeg\",\"profile_background_image_url_https\":\"https:\\/\\/pbs.twimg.com\\/profile_background_images\\/479474791024304128\\/0KO5ytQP.jpeg\",\"profile_background_tile\":true,\"profile_link_color\":\"0084B4\",\"profile_sidebar_border_color\":\"000000\",\"profile_sidebar_fill_color\":\"DDEEF6\",\"profile_text_color\":\"333333\",\"profile_use_background_image\":true,\"profile_image_url\":\"http:\\/\\/pbs.twimg.com\\/profile_images\\/792927763980222465\\/_zRyQ9xN_normal.jpg\",\"profile_image_url_https\":\"https:\\/\\/pbs.twimg.com\\/profile_images\\/792927763980222465\\/_zRyQ9xN_normal.jpg\",\"profile_banner_url\":\"https:\\/\\/pbs.twimg.com\\/profile_banners\\/1409176891\\/1477883577\",\"default_profile\":false,\"default_profile_image\":false,\"following\":null,\"follow_request_sent\":null,\"notifications\":null},\"geo\":null,\"coordinates\":null,\"place\":null,\"contributors\":null,\"retweeted_status\":{\"created_at\":\"Fri Nov 25 14:25:44 +0000 2016\",\"id\":802156318689730560,\"id_str\":\"802156318689730560\",\"text\":\"NEW RT @ollyog  An animation I created for the new digital edition of #Empire featuring Michael #Fassbender!\\u2026 https:\\/\\/t.co\\/FT3vAx4Nda\",\"display_text_range\":[0,140],\"source\":\"\\u003ca href=\\\"http:\\/\\/twitter.com\\\" rel=\\\"nofollow\\\"\\u003eTwitter Web Client\\u003c\\/a\\u003e\",\"truncated\":true,\"in_reply_to_status_id\":null,\"in_reply_to_status_id_str\":null,\"in_reply_to_user_id\":null,\"in_reply_to_user_id_str\":null,\"in_reply_to_screen_name\":null,\"user\":{\"id\":555456889,\"id_str\":\"555456889\",\"name\":\"BeatlesFass\",\"screen_name\":\"BeatFassbender\",\"location\":null,\"url\":null,\"description\":\"Go out & love each other a little bit more. Do something nice for a friend or neighbor or stranger. Encourage respect for one another. -Michael #Fassbender.\",\"protected\":false,\"verified\":false,\"followers_count\":3282,\"friends_count\":1140,\"listed_count\":91,\"favourites_count\":11010,\"statuses_count\":16212,\"created_at\":\"Mon Apr 16 22:01:05 +0000 2012\",\"utc_offset\":7200,\"time_zone\":\"Athens\",\"geo_enabled\":false,\"lang\":\"en\",\"contributors_enabled\":false,\"is_translator\":false,\"profile_background_color\":\"ACDED6\",\"profile_background_image_url\":\"http:\\/\\/abs.twimg.com\\/images\\/themes\\/theme18\\/bg.gif\",\"profile_background_image_url_https\":\"https:\\/\\/abs.twimg.com\\/images\\/themes\\/theme18\\/bg.gif\",\"profile_background_tile\":false,\"profile_link_color\":\"038543\",\"profile_sidebar_border_color\":\"EEEEEE\",\"profile_sidebar_fill_color\":\"F6F6F6\",\"profile_text_color\":\"333333\",\"profile_use_background_image\":true,\"profile_image_url\":\"http:\\/\\/pbs.twimg.com\\/profile_images\\/801802091161337856\\/8XTTr0im_normal.jpg\",\"profile_image_url_https\":\"https:\\/\\/pbs.twimg.com\\/profile_images\\/801802091161337856\\/8XTTr0im_normal.jpg\",\"profile_banner_url\":\"https:\\/\\/pbs.twimg.com\\/profile_banners\\/555456889\\/1479683608\",\"default_profile\":false,\"default_profile_image\":false,\"following\":null,\"follow_request_sent\":null,\"notifications\":null},\"geo\":null,\"coordinates\":null,\"place\":null,\"contributors\":null,\"is_quote_status\":false,\"extended_tweet\":{\"full_text\":\"NEW RT @ollyog  An animation I created for the new digital edition of #Empire featuring Michael #Fassbender! #AssassinsCreedMovie https:\\/\\/t.co\\/537OQi8QQt\",\"display_text_range\":[0,129],\"entities\":{\"hashtags\":[{\"text\":\"Empire\",\"indices\":[70,77]},{\"text\":\"Fassbender\",\"indices\":[96,107]},{\"text\":\"AssassinsCreedMovie\",\"indices\":[109,129]}],\"urls\":[],\"user_mentions\":[{\"screen_name\":\"ollyog\",\"name\":\"Olly Gibbs\",\"id\":14958722,\"id_str\":\"14958722\",\"indices\":[7,14]}],\"symbols\":[],\"media\":[{\"id\":802156099352805376,\"id_str\":\"802156099352805376\",\"indices\":[130,153],\"media_url\":\"http:\\/\\/pbs.twimg.com\\/ext_tw_video_thumb\\/802156099352805376\\/pu\\/img\\/sZLOX02gF7Oge23D.jpg\",\"media_url_https\":\"https:\\/\\/pbs.twimg.com\\/ext_tw_video_thumb\\/802156099352805376\\/pu\\/img\\/sZLOX02gF7Oge23D.jpg\",\"url\":\"https:\\/\\/t.co\\/537OQi8QQt\",\"display_url\":\"pic.twitter.com\\/537OQi8QQt\",\"expanded_url\":\"https:\\/\\/twitter.com\\/BeatFassbender\\/status\\/802156318689730560\\/video\\/1\",\"type\":\"video\",\"sizes\":{\"small\":{\"w\":340,\"h\":453,\"resize\":\"fit\"},\"large\":{\"w\":960,\"h\":1280,\"resize\":\"fit\"},\"medium\":{\"w\":600,\"h\":800,\"resize\":\"fit\"},\"thumb\":{\"w\":150,\"h\":150,\"resize\":\"crop\"}},\"video_info\":{\"aspect_ratio\":[3,4],\"duration_millis\":12360,\"variants\":[{\"content_type\":\"application\\/dash+xml\",\"url\":\"https:\\/\\/video.twimg.com\\/ext_tw_video\\/802156099352805376\\/pu\\/pl\\/gr607u4QlbLsB3No.mpd\"},{\"bitrate\":320000,\"content_type\":\"video\\/mp4\",\"url\":\"https:\\/\\/video.twimg.com\\/ext_tw_video\\/802156099352805376\\/pu\\/vid\\/240x320\\/FIcA30TSMwel14z6.mp4\"},{\"content_type\":\"application\\/x-mpegURL\",\"url\":\"https:\\/\\/video.twimg.com\\/ext_tw_video\\/802156099352805376\\/pu\\/pl\\/gr607u4QlbLsB3No.m3u8\"},{\"bitrate\":832000,\"content_type\":\"video\\/mp4\",\"url\":\"https:\\/\\/video.twimg.com\\/ext_tw_video\\/802156099352805376\\/pu\\/vid\\/480x640\\/8uyZlodw5q096xrY.mp4\"},{\"bitrate\":2176000,\"content_type\":\"video\\/mp4\",\"url\":\"https:\\/\\/video.twimg.com\\/ext_tw_video\\/802156099352805376\\/pu\\/vid\\/960x1280\\/RfOzyc7LR8dzKVVy.mp4\"}]}}]},\"extended_entities\":{\"media\":[{\"id\":802156099352805376,\"id_str\":\"802156099352805376\",\"indices\":[130,153],\"media_url\":\"http:\\/\\/pbs.twimg.com\\/ext_tw_video_thumb\\/802156099352805376\\/pu\\/img\\/sZLOX02gF7Oge23D.jpg\",\"media_url_https\":\"https:\\/\\/pbs.twimg.com\\/ext_tw_video_thumb\\/802156099352805376\\/pu\\/img\\/sZLOX02gF7Oge23D.jpg\",\"url\":\"https:\\/\\/t.co\\/537OQi8QQt\",\"display_url\":\"pic.twitter.com\\/537OQi8QQt\",\"expanded_url\":\"https:\\/\\/twitter.com\\/BeatFassbender\\/status\\/802156318689730560\\/video\\/1\",\"type\":\"video\",\"sizes\":{\"small\":{\"w\":340,\"h\":453,\"resize\":\"fit\"},\"large\":{\"w\":960,\"h\":1280,\"resize\":\"fit\"},\"medium\":{\"w\":600,\"h\":800,\"resize\":\"fit\"},\"thumb\":{\"w\":150,\"h\":150,\"resize\":\"crop\"}},\"video_info\":{\"aspect_ratio\":[3,4],\"duration_millis\":12360,\"variants\":[{\"content_type\":\"application\\/dash+xml\",\"url\":\"https:\\/\\/video.twimg.com\\/ext_tw_video\\/802156099352805376\\/pu\\/pl\\/gr607u4QlbLsB3No.mpd\"},{\"bitrate\":320000,\"content_type\":\"video\\/mp4\",\"url\":\"https:\\/\\/video.twimg.com\\/ext_tw_video\\/802156099352805376\\/pu\\/vid\\/240x320\\/FIcA30TSMwel14z6.mp4\"},{\"content_type\":\"application\\/x-mpegURL\",\"url\":\"https:\\/\\/video.twimg.com\\/ext_tw_video\\/802156099352805376\\/pu\\/pl\\/gr607u4QlbLsB3No.m3u8\"},{\"bitrate\":832000,\"content_type\":\"video\\/mp4\",\"url\":\"https:\\/\\/video.twimg.com\\/ext_tw_video\\/802156099352805376\\/pu\\/vid\\/480x640\\/8uyZlodw5q096xrY.mp4\"},{\"bitrate\":2176000,\"content_type\":\"video\\/mp4\",\"url\":\"https:\\/\\/video.twimg.com\\/ext_tw_video\\/802156099352805376\\/pu\\/vid\\/960x1280\\/RfOzyc7LR8dzKVVy.mp4\"}]}}]}},\"retweet_count\":31,\"favorite_count\":26,\"entities\":{\"hashtags\":[{\"text\":\"Empire\",\"indices\":[70,77]},{\"text\":\"Fassbender\",\"indices\":[96,107]}],\"urls\":[{\"url\":\"https:\\/\\/t.co\\/FT3vAx4Nda\",\"expanded_url\":\"https:\\/\\/twitter.com\\/i\\/web\\/status\\/802156318689730560\",\"display_url\":\"twitter.com\\/i\\/web\\/status\\/8\\u2026\",\"indices\":[110,133]}],\"user_mentions\":[{\"screen_name\":\"ollyog\",\"name\":\"Olly Gibbs\",\"id\":14958722,\"id_str\":\"14958722\",\"indices\":[7,14]}],\"symbols\":[]},\"favorited\":false,\"retweeted\":false,\"possibly_sensitive\":false,\"filter_level\":\"low\",\"lang\":\"en\"},\"is_quote_status\":false,\"retweet_count\":0,\"favorite_count\":0,\"entities\":{\"hashtags\":[{\"text\":\"Empire\",\"indices\":[90,97]},{\"text\":\"Fassbender\",\"indices\":[116,127]}],\"urls\":[{\"url\":\"\",\"expanded_url\":null,\"indices\":[130,130]}],\"user_mentions\":[{\"screen_name\":\"BeatFassbender\",\"name\":\"BeatlesFass\",\"id\":555456889,\"id_str\":\"555456889\",\"indices\":[3,18]},{\"screen_name\":\"ollyog\",\"name\":\"Olly Gibbs\",\"id\":14958722,\"id_str\":\"14958722\",\"indices\":[27,34]}],\"symbols\":[]},\"favorited\":false,\"retweeted\":false,\"filter_level\":\"low\",\"lang\":\"en\",\"timestamp_ms\":\"1480086331226\"}'''"
   ]
  },
  {
   "cell_type": "code",
   "execution_count": 2,
   "metadata": {
    "collapsed": false
   },
   "outputs": [
    {
     "ename": "NameError",
     "evalue": "name 'text' is not defined",
     "output_type": "error",
     "traceback": [
      "\u001b[0;31m---------------------------------------------------------------------------\u001b[0m",
      "\u001b[0;31mNameError\u001b[0m                                 Traceback (most recent call last)",
      "\u001b[0;32m<ipython-input-2-b71297ee8d7a>\u001b[0m in \u001b[0;36m<module>\u001b[0;34m()\u001b[0m\n\u001b[0;32m----> 1\u001b[0;31m \u001b[0mjson\u001b[0m\u001b[0;34m.\u001b[0m\u001b[0mdumps\u001b[0m\u001b[0;34m(\u001b[0m\u001b[0mtext\u001b[0m\u001b[0;34m)\u001b[0m\u001b[0;34m\u001b[0m\u001b[0m\n\u001b[0m",
      "\u001b[0;31mNameError\u001b[0m: name 'text' is not defined"
     ]
    }
   ],
   "source": [
    "json.dumps(text)"
   ]
  },
  {
   "cell_type": "code",
   "execution_count": null,
   "metadata": {
    "collapsed": true
   },
   "outputs": [],
   "source": []
  }
 ],
 "metadata": {
  "kernelspec": {
   "display_name": "Python 2",
   "language": "python",
   "name": "python2"
  },
  "language_info": {
   "codemirror_mode": {
    "name": "ipython",
    "version": 2
   },
   "file_extension": ".py",
   "mimetype": "text/x-python",
   "name": "python",
   "nbconvert_exporter": "python",
   "pygments_lexer": "ipython2",
   "version": "2.7.12"
  }
 },
 "nbformat": 4,
 "nbformat_minor": 0
}
